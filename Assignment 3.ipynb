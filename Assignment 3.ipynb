{
 "cells": [
  {
   "cell_type": "code",
   "execution_count": 1,
   "metadata": {},
   "outputs": [
    {
     "name": "stdout",
     "output_type": "stream",
     "text": [
      "Enter First number : 55\n",
      "Enter Second number :66\n",
      "Enter operation to perform +,-,x,/, ^ :=> +\n",
      "Addition is:  121\n"
     ]
    }
   ],
   "source": [
    "'''Task-No-1:Make a calculator using Python with addition , subtraction , multiplication , division and power'''\n",
    "\n",
    "num1 = int(input(\"Enter First number : \"))\n",
    "num2 = int(input(\"Enter Second number :\"))\n",
    "\n",
    "result = str(input(\"Enter operation to perform +,-,x,/, ^ :=> \"))\n",
    "if (result == '+'):\n",
    "    print(\"Addition is: \",num1 + num2)\n",
    "elif result == '-':\n",
    "    print(\"Subtraction is: \",num1 - num2)\n",
    "elif result == 'x': \n",
    "    print(\"Multiplication is : \",num1 * num2)\n",
    "elif result == '/':\n",
    "    print(\"Division is :\",num1 / num2)\n",
    "elif result == '^':\n",
    "    print(\"Power is : \",num1 ** num2)\n",
    "else:\n",
    "    print(\"Invalid Operator\")"
   ]
  },
  {
   "cell_type": "code",
   "execution_count": 5,
   "metadata": {},
   "outputs": [
    {
     "name": "stdout",
     "output_type": "stream",
     "text": [
      "Parkash\n",
      "Rai\n"
     ]
    },
    {
     "ename": "AttributeError",
     "evalue": "'int' object has no attribute 'isdigit'",
     "output_type": "error",
     "traceback": [
      "\u001b[1;31m---------------------------------------------------------------------------\u001b[0m",
      "\u001b[1;31mAttributeError\u001b[0m                            Traceback (most recent call last)",
      "\u001b[1;32m<ipython-input-5-92f36764daba>\u001b[0m in \u001b[0;36m<module>\u001b[1;34m\u001b[0m\n\u001b[0;32m      4\u001b[0m \u001b[1;33m\u001b[0m\u001b[0m\n\u001b[0;32m      5\u001b[0m \u001b[1;32mfor\u001b[0m \u001b[0mi\u001b[0m \u001b[1;32min\u001b[0m \u001b[0mlist1\u001b[0m\u001b[1;33m:\u001b[0m\u001b[1;33m\u001b[0m\u001b[1;33m\u001b[0m\u001b[0m\n\u001b[1;32m----> 6\u001b[1;33m     \u001b[0mi\u001b[0m\u001b[1;33m.\u001b[0m\u001b[0misdigit\u001b[0m\u001b[1;33m(\u001b[0m\u001b[1;33m)\u001b[0m\u001b[1;33m\u001b[0m\u001b[1;33m\u001b[0m\u001b[0m\n\u001b[0m\u001b[0;32m      7\u001b[0m     \u001b[0mprint\u001b[0m\u001b[1;33m(\u001b[0m\u001b[0mi\u001b[0m\u001b[1;33m)\u001b[0m\u001b[1;33m\u001b[0m\u001b[1;33m\u001b[0m\u001b[0m\n",
      "\u001b[1;31mAttributeError\u001b[0m: 'int' object has no attribute 'isdigit'"
     ]
    }
   ],
   "source": [
    "'''Task-No-2: Write a program to check if there is any numeric value in list using for loop '''\n",
    "\n",
    "list1 = ['Parkash','Rai',5,'Thawani']    \n",
    "\n",
    "for i in list1:\n",
    "    i.isdigit()\n",
    "    print(i)"
   ]
  },
  {
   "cell_type": "code",
   "execution_count": 6,
   "metadata": {},
   "outputs": [
    {
     "name": "stdout",
     "output_type": "stream",
     "text": [
      "January\n",
      "{'Jan': 'January', 'feb': 'Febuary', 'mar': 'March', 'apr': 'April', 'may': 'May'}\n"
     ]
    }
   ],
   "source": [
    "'''Task-No-3:Write a Python script to add a key to a dictionary '''\n",
    "month = {'Jan':'January','feb':'Febuary','mar':'March','apr':'April'}\n",
    "print(month['Jan'])\n",
    "month.update({'may':'May'})\n",
    "print(month)"
   ]
  },
  {
   "cell_type": "code",
   "execution_count": 8,
   "metadata": {},
   "outputs": [
    {
     "name": "stdout",
     "output_type": "stream",
     "text": [
      "152\n"
     ]
    }
   ],
   "source": [
    "'''Task-No-4: Write a Python program to sum all the numeric items in a dictionary '''\n",
    "\n",
    "sum_dic = {\n",
    "    1: 46,\n",
    "    2: 41,\n",
    "    3: 38,\n",
    "    4: 27\n",
    "}\n",
    "sumall = 0\n",
    "for i in sum_dic:\n",
    "    sumall = sumall + sum_dic[i]\n",
    "print(sumall)"
   ]
  },
  {
   "cell_type": "code",
   "execution_count": 10,
   "metadata": {},
   "outputs": [
    {
     "name": "stdout",
     "output_type": "stream",
     "text": [
      "12 is a duplicate\n",
      "40 is a duplicate\n"
     ]
    }
   ],
   "source": [
    "'''Task-No - 5:Write a program to identify duplicate values from list '''\n",
    "dup_list = [40, 12, 8, 40, 70, 10, 12]\n",
    "\n",
    "dup_list.sort()\n",
    "for i in range(0,len(dup_list)-1):\n",
    "    if dup_list[i] == dup_list[i+1]:\n",
    "        print (str(dup_list[i]) + ' is a duplicate')"
   ]
  },
  {
   "cell_type": "code",
   "execution_count": 11,
   "metadata": {},
   "outputs": [
    {
     "name": "stdout",
     "output_type": "stream",
     "text": [
      "Enter the key to check: 4\n",
      "Key is already present\n"
     ]
    }
   ],
   "source": [
    "'''Task-No- 6:Write a Python script to check if a given key already exists in a dictionary'''\n",
    "key_dup = {\n",
    "    1: \"Monday\",\n",
    "    2: \"Tuesday\",\n",
    "    3: \"Wednesday\",\n",
    "    4: \"Thursday\",\n",
    "    5: \"Friday\",\n",
    "    6: \"Saturday\",\n",
    "    7: \"Sunday\"\n",
    "}\n",
    "\n",
    "key = int(input(\"Enter the key to check: \"))\n",
    "if key in key_dup:\n",
    "    print(\"Key is already present\")\n",
    "else:\n",
    "    print(\"Key is not present in the dictionary\")"
   ]
  },
  {
   "cell_type": "code",
   "execution_count": null,
   "metadata": {},
   "outputs": [],
   "source": []
  }
 ],
 "metadata": {
  "kernelspec": {
   "display_name": "Python 3",
   "language": "python",
   "name": "python3"
  },
  "language_info": {
   "codemirror_mode": {
    "name": "ipython",
    "version": 3
   },
   "file_extension": ".py",
   "mimetype": "text/x-python",
   "name": "python",
   "nbconvert_exporter": "python",
   "pygments_lexer": "ipython3",
   "version": "3.7.4"
  }
 },
 "nbformat": 4,
 "nbformat_minor": 2
}
