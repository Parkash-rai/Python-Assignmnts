{
 "cells": [
  {
   "cell_type": "code",
   "execution_count": 3,
   "metadata": {},
   "outputs": [
    {
     "name": "stdout",
     "output_type": "stream",
     "text": [
      "Enter the marks of Math :89\n",
      "Enter the marks of Chemistry: 43\n",
      "Enter the marks of Physics: 48\n",
      "Enter the marks of English: 47\n",
      "Enter the marks of Sindhi: 98\n",
      "\n",
      "You Obtianed  325  marks out of 500.\n",
      "\n",
      "Your Percentage is:  65.0 % \n",
      "Grade : C\n"
     ]
    }
   ],
   "source": [
    "'''Python Assignment No: 2\n",
    "Task-1:\n",
    "Write a program which takes 5 inputs from user for different subject’s marks,\n",
    "total it and generate mark sheet using grades ? \n",
    "'''\n",
    "\n",
    "math = int(input(\"Enter the marks of Math :\"))\n",
    "chem = int(input(\"Enter the marks of Chemistry: \"))\n",
    "phy = int(input(\"Enter the marks of Physics: \"))\n",
    "eng = int(input(\"Enter the marks of English: \"))\n",
    "sind = int(input(\"Enter the marks of Sindhi: \"))\n",
    "\n",
    "obtian_marks = math + chem + phy + eng + sind\n",
    "print(\"\\nYou Obtianed \",obtian_marks,\" marks out of 500.\\n\")\n",
    "percent = (obtian_marks*100)/500.0\n",
    "if (percent >= 85 and percent <= 100):\n",
    "    print(\"Your Percentage is: \",percent,\"% \\nGrade : A\")\n",
    "elif (percent >= 70 and percent < 85 ):\n",
    "    print(\"Your Percentage is: \",percent,\"% \\nGrade : B\")\n",
    "elif (percent >= 60 and percent < 70):\n",
    "    print(\"Your Percentage is: \",percent,\"% \\nGrade : C\")\n",
    "elif (percent >= 50 and percent < 60):\n",
    "    print(\"Your Percentage is: \",percent,\"% \\nGrade : D\")\n",
    "else:\n",
    "    print(\"Oh! You are Fail.\")\n"
   ]
  },
  {
   "cell_type": "code",
   "execution_count": 5,
   "metadata": {},
   "outputs": [
    {
     "name": "stdout",
     "output_type": "stream",
     "text": [
      "Enter any number: 655752\n",
      "Even Number :  655752\n"
     ]
    }
   ],
   "source": [
    "'''Task-2:\n",
    "Write a program which take input from user and identify that the given number is even or odd? \n",
    "'''\n",
    "number = int(input(\"Enter any number: \"))\n",
    "if number % 2 == 0:\n",
    "    print(\"Even Number : \",number)\n",
    "else:\n",
    "    print(\"Odd Number : \",number)"
   ]
  },
  {
   "cell_type": "code",
   "execution_count": 6,
   "metadata": {},
   "outputs": [
    {
     "name": "stdout",
     "output_type": "stream",
     "text": [
      "5\n"
     ]
    }
   ],
   "source": [
    "'''Task-3:\n",
    " Write a program which print the length of the list? \n",
    "'''\n",
    "Names = [\"Padam\",\"Parkash\",\"Preet\",\"Nand\",\"Chander\"]\n",
    "print(len(Names))"
   ]
  },
  {
   "cell_type": "code",
   "execution_count": 10,
   "metadata": {},
   "outputs": [
    {
     "name": "stdout",
     "output_type": "stream",
     "text": [
      "Sum of the list is :  11\n"
     ]
    }
   ],
   "source": [
    "'''Task-4:\n",
    "Write a Python program to sum all the numeric items in a list?\n",
    "'''\n",
    "sum_number = [3,5,3,-5,5]\n",
    "add_list = 0\n",
    "\n",
    "for x in sum_number:\n",
    "    add_list += x\n",
    "print(\"Sum of the list is : \", add_list)\n",
    "    "
   ]
  },
  {
   "cell_type": "code",
   "execution_count": 11,
   "metadata": {},
   "outputs": [
    {
     "name": "stdout",
     "output_type": "stream",
     "text": [
      "99\n"
     ]
    }
   ],
   "source": [
    "'''Task-5:\n",
    "Write a Python program to get the largest number from a numeric list\n",
    "'''\n",
    "numbers = [54,33,55,99,33,32,11]\n",
    "print(max(numbers))\n"
   ]
  },
  {
   "cell_type": "code",
   "execution_count": 12,
   "metadata": {},
   "outputs": [
    {
     "name": "stdout",
     "output_type": "stream",
     "text": [
      "1\n",
      "1\n",
      "2\n",
      "3\n"
     ]
    }
   ],
   "source": [
    "'''Task-6:\n",
    "\n",
    " 6. Take a list, say for example this one: \n",
    "    a = [1, 1, 2, 3, 5, 8, 13, 21, 34, 55, 89] \n",
    "    and write a program that prints out all the elements of the list that are less than 5.\n",
    "'''\n",
    "a = [1,1,2,3,5,8,13,21,34,55,89]\n",
    "\n",
    "for x in a:\n",
    "    if (x < 5):\n",
    "        print(x)\n"
   ]
  },
  {
   "cell_type": "code",
   "execution_count": null,
   "metadata": {},
   "outputs": [],
   "source": []
  }
 ],
 "metadata": {
  "kernelspec": {
   "display_name": "Python 3",
   "language": "python",
   "name": "python3"
  },
  "language_info": {
   "codemirror_mode": {
    "name": "ipython",
    "version": 3
   },
   "file_extension": ".py",
   "mimetype": "text/x-python",
   "name": "python",
   "nbconvert_exporter": "python",
   "pygments_lexer": "ipython3",
   "version": "3.7.4"
  }
 },
 "nbformat": 4,
 "nbformat_minor": 2
}
