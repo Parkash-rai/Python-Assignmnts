{
 "cells": [
  {
   "cell_type": "code",
   "execution_count": 1,
   "metadata": {},
   "outputs": [
    {
     "data": {
      "text/plain": [
       "\"\\nQuestion 4:\\nDefine the following terms:\\n1. Class\\n2. Object\\n3. Attribute\\n4. Behavior\\n\\nAnswer:\\n            Class:               Class is a set or category of things having some property or \\n                                 attribute in common and differentiated from others by kind, type, \\n                                 or quality.\\n                                 \\n            Object:              Object is one of instances of the class. which can perform the \\n                                 functionalities which are defined in the class.\\n                                 \\n            Attribute & Behavior:Every class contains attributes and behaviors. \\n                                 Attributes are the characteristics of the class that\\n                                 help to distinguish it from other classes. Behaviors \\n                                 are the tasks that an object performs. A person's attributes,\\n                                 for example, include their age, name, and height, while their \\n                                 behaviors include the fact that a person can speak, run, walk,\\n                                 and eat.\\n\""
      ]
     },
     "execution_count": 1,
     "metadata": {},
     "output_type": "execute_result"
    }
   ],
   "source": [
    "'''Question 1:\n",
    "               Define Object Oriented Programming Language?\n",
    "         \n",
    "   Answer:     Object-Oriented Programming or OOPs refers to languages that uses \n",
    "               objects in programming.The main aim of OOP is to bind together the data and \n",
    "               the functions that operate on them so that no other part of the code can \n",
    "               access this data except that function.\n",
    "         \n",
    "         '''\n",
    "\n",
    "'''Question 2:\n",
    "                List down the Benefits of OOP?\n",
    "   Answer:\n",
    "                Modularity for easier troubleshooting.\n",
    "                Reuse of code through inheritance. \n",
    "                Flexibility through polymorphism. \n",
    "                Effective problem solving.\n",
    "                Object-oriented systems can be easily upgraded from small to large system.\n",
    "                Software complexity can be easily managed.\n",
    "                It is possible to map objects in the problem domain to those objects in the program.\n",
    " \n",
    "'''\n",
    "'''\n",
    "Question 3:\n",
    "            Differentiate between function and method?\n",
    "Answer:\n",
    "            A function is a piece of code that is called by name. \n",
    "            It can be passed data to operate on (i.e. the parameters) \n",
    "            and can optionally return data (the return value). \n",
    "            All data that is passed to a function is explicitly passed. \n",
    "            A method is a piece of code that is called by a name that \n",
    "            is associated with an object.\n",
    "'''\n",
    "'''\n",
    "Question 4:\n",
    "Define the following terms:\n",
    "1. Class\n",
    "2. Object\n",
    "3. Attribute\n",
    "4. Behavior\n",
    "\n",
    "Answer:\n",
    "            Class:               Class is a set or category of things having some property or \n",
    "                                 attribute in common and differentiated from others by kind, type, \n",
    "                                 or quality.\n",
    "                                 \n",
    "            Object:              Object is one of instances of the class. which can perform the \n",
    "                                 functionalities which are defined in the class.\n",
    "                                 \n",
    "            Attribute & Behavior:Every class contains attributes and behaviors. \n",
    "                                 Attributes are the characteristics of the class that\n",
    "                                 help to distinguish it from other classes. Behaviors \n",
    "                                 are the tasks that an object performs. A person's attributes,\n",
    "                                 for example, include their age, name, and height, while their \n",
    "                                 behaviors include the fact that a person can speak, run, walk,\n",
    "                                 and eat.\n",
    "'''"
   ]
  },
  {
   "cell_type": "code",
   "execution_count": 2,
   "metadata": {},
   "outputs": [],
   "source": [
    "'''\n",
    "Question 5:\n",
    "          Write a code in python in which create a class named it Car which\n",
    "have 5 attributes such like (model, color and name etc.) and 3\n",
    "methods. And create 5 object instance from that class.\n",
    "'''\n",
    "class Car(object):\n",
    "  \"\"\"\n",
    "    blueprint for car\n",
    "  \"\"\"\n",
    "\n",
    "  def __init__(self, model, color, company, speed_limit):\n",
    "    self.color = color\n",
    "    self.company = company\n",
    "    self.speed_limit = speed_limit\n",
    "    self.model = model\n",
    "\n",
    "  def start(self):\n",
    "    print(\"started\")\n",
    "\n",
    "  def stop(self):\n",
    "    print(\"stopped\")\n",
    "\n",
    "  def accelarate(self):\n",
    "    print(\"accelarating...\")\n",
    "    \"accelarator functionality here\"\n",
    "\n",
    "  def change_gear(self, gear_type):\n",
    "    print(\"gear changed\")\n",
    "    \" gear related functionality here\"\n",
    "    "
   ]
  },
  {
   "cell_type": "code",
   "execution_count": null,
   "metadata": {},
   "outputs": [],
   "source": []
  }
 ],
 "metadata": {
  "kernelspec": {
   "display_name": "Python 3",
   "language": "python",
   "name": "python3"
  },
  "language_info": {
   "codemirror_mode": {
    "name": "ipython",
    "version": 3
   },
   "file_extension": ".py",
   "mimetype": "text/x-python",
   "name": "python",
   "nbconvert_exporter": "python",
   "pygments_lexer": "ipython3",
   "version": "3.7.4"
  }
 },
 "nbformat": 4,
 "nbformat_minor": 2
}
