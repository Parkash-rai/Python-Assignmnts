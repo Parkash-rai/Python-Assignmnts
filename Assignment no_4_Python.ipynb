{
 "cells": [
  {
   "cell_type": "code",
   "execution_count": 1,
   "metadata": {},
   "outputs": [
    {
     "name": "stdout",
     "output_type": "stream",
     "text": [
      "{'first_name': 'Padam', 'last_name': 'Rai', 'age': '22', 'city': 'Hyderabad', 'qualification': 'B.E'}\n",
      "{'first_name': 'Padam', 'last_name': 'Rai', 'age': '22', 'city': 'Hyderabad', 'qualification': 'Ph.D'}\n",
      "{'first_name': 'Padam', 'last_name': 'Rai', 'age': '22', 'city': 'Hyderabad'}\n"
     ]
    }
   ],
   "source": [
    "\"\"\"Question-1: \n",
    "Use dictionary to store information about a person you know. Store  their first name, last name, age, \n",
    "and the city in which they live. You should have keys such as first_name, last_name, age and city. \n",
    "Print each piece of information stored in your dictionary. Add a new key value pair about qualification\n",
    "then update the qualification value to high academic level then delete it.\"\"\"\n",
    "\n",
    "biodata = {\n",
    "    \"first_name\": \"Padam\",\n",
    "    \"last_name\": \"Rai\",\n",
    "    \"age\": \"22\",\n",
    "    \"city\": \"Hyderabad\"\n",
    "}\n",
    "\n",
    "biodata[\"qualification\"] = \"B.E\" #Adding new key-value pair into  the dictionary\n",
    "print(biodata)\n",
    "\n",
    "biodata[\"qualification\"] = \"Ph.D\" #Updating the exiting qualification to higher Academic level\n",
    "print(biodata)\n",
    "\n",
    "del biodata[\"qualification\"]\n",
    "print(biodata)"
   ]
  },
  {
   "cell_type": "code",
   "execution_count": 2,
   "metadata": {},
   "outputs": [
    {
     "name": "stdout",
     "output_type": "stream",
     "text": [
      "{'karachi': {'country': 'Pakistan', 'population': '20 million', 'fact': 'city of lights'}, 'London': {'country': 'Pakistan', 'population': '9.91 million', 'fact': 'Beautifull City of England'}, 'Washington DC': {'country': 'USA', 'population': '7.474 million', 'fact': 'Beautifull City of England'}}\n"
     ]
    }
   ],
   "source": [
    "\"\"\"Question-2:\n",
    "Make a dictionary called cities. Use the name of three cities as keys in your dictionary. Creat a \n",
    "dictionary of informatiin about each city and include the country that the city is in, its approximate\n",
    "populatin , and one fact about that city. The  keys for each city's dictionary should be something like \n",
    "country, population, and fact. Print the name of each city and all of the information you have stored \n",
    "about it.\"\"\"\n",
    "\n",
    "cities = {\n",
    "    \"karachi\" :{\n",
    "        \"country\":\"Pakistan\",\n",
    "        \"population\":\"20 million\",\n",
    "        \"fact\": \"city of lights\"\n",
    "    },\n",
    "    \"London\" :{\n",
    "        \"country\":\"Pakistan\",\n",
    "        \"population\":\"9.91 million\",\n",
    "        \"fact\": \"Beautifull City of England\"\n",
    "    },\n",
    "     \"Washington DC\" :{\n",
    "        \"country\":\"USA\",\n",
    "        \"population\":\"7.474 million\",\n",
    "        \"fact\": \"Beautifull City of England\"\n",
    "    }\n",
    "    \n",
    "}\n",
    "print(cities)\n"
   ]
  },
  {
   "cell_type": "code",
   "execution_count": 3,
   "metadata": {},
   "outputs": [
    {
     "name": "stdout",
     "output_type": "stream",
     "text": [
      "Tell your age :4\n",
      "Please pay $10 for ticket.\n"
     ]
    }
   ],
   "source": [
    "\"\"\"Question-3: \n",
    "A movie theater charges different ticket prices depending on a person's age. If a person is under the age \n",
    "of 3, the ticket is free; if they are between 3 and 12, the ticket is $10; and if they are over age 12, \\\n",
    "the ticket is $15. Write a loop in which you ask users thier age, and then tell them the cost  of their \n",
    "movie ticket. \"\"\"\n",
    "\n",
    "quit = True\n",
    "while(quit != False):\n",
    "    age = int(input(\"Tell your age :\"))\n",
    "    if age < 3:\n",
    "        print(\"Ticket is free for you.\")\n",
    "    elif age >= 3 and age < 12:\n",
    "        print(\"Please pay $10 for ticket.\")\n",
    "    elif age > 12:\n",
    "        print(\"Please pay $15  for ticket\")\n",
    "    quit = False\n"
   ]
  },
  {
   "cell_type": "code",
   "execution_count": 6,
   "metadata": {},
   "outputs": [
    {
     "name": "stdout",
     "output_type": "stream",
     "text": [
      "One of my favorite books is  \"You Born Rich\"\n"
     ]
    }
   ],
   "source": [
    "\"\"\"Question-4:\n",
    "Write a function called favorite_book() that accepts one parameter, title. The function should print \n",
    "message, such as One of  my favorite books in Alice in Wonderland. Call the function, making sure to \n",
    "include abook title as an argument in the function call.\"\"\"\n",
    "\n",
    "def favorite_book(title):\n",
    "    print(\"One of my favorite books is \",title)\n",
    "favorite_book('\"You Born Rich\"')"
   ]
  },
  {
   "cell_type": "code",
   "execution_count": null,
   "metadata": {},
   "outputs": [
    {
     "name": "stdout",
     "output_type": "stream",
     "text": [
      "Guess Your Secret Number.15\n",
      "You guess smaller than the secret number, Try again\n",
      "Guess Your Secret Number.20\n",
      "You won the Game.\n"
     ]
    }
   ],
   "source": [
    "\"\"\"Question-5:\n",
    "Guess the number game\n",
    "Write a program which randomly generate a number between 1 to 30 and ask the user in input field to\n",
    "gues the correct number. Give three chances touse gues the number and also give hint too  user if hidden\n",
    "number is greater or smaller he given to input field.\"\"\"\n",
    "\n",
    "\n",
    "from random import randint\n",
    "secret_number = randint(1, 30)\n",
    "\n",
    "check_cond = True\n",
    "chances = 0\n",
    "\n",
    "while(check_cond !=  False):\n",
    "    if chances == 3:\n",
    "        print(\"You Lost all the chances.\")\n",
    "        break\n",
    "    guess_number = int(input(\"Guess Your Secret Number.\"))\n",
    "    if guess_number == secret_number:\n",
    "        print(\"You won the Game.\")\n",
    "    elif guess_number > secret_number:\n",
    "        print(\"You guess larger than the secret number,Try again\")\n",
    "    else:\n",
    "        print(\"You guess smaller than the secret number, Try again\")\n",
    "    check_cond = True\n",
    "    chances += 1"
   ]
  },
  {
   "cell_type": "code",
   "execution_count": null,
   "metadata": {},
   "outputs": [],
   "source": []
  },
  {
   "cell_type": "code",
   "execution_count": null,
   "metadata": {},
   "outputs": [],
   "source": []
  }
 ],
 "metadata": {
  "kernelspec": {
   "display_name": "Python 3",
   "language": "python",
   "name": "python3"
  },
  "language_info": {
   "codemirror_mode": {
    "name": "ipython",
    "version": 3
   },
   "file_extension": ".py",
   "mimetype": "text/x-python",
   "name": "python",
   "nbconvert_exporter": "python",
   "pygments_lexer": "ipython3",
   "version": "3.7.4"
  }
 },
 "nbformat": 4,
 "nbformat_minor": 2
}
